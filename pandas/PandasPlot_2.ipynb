{
 "cells": [
  {
   "cell_type": "markdown",
   "metadata": {},
   "source": [
    "##### Visualising Your Data\n",
    "The Pandas Plot Function\n",
    "Pandas has a built in .plot() function as part of the DataFrame class. It has several key parameters:\n",
    "* kind — ‘bar’,’barh’,’pie’,’scatter’,’kde’ etc which can be found in the docs.\n",
    "* color — Which accepts and array of hex codes corresponding sequential to each data series / column.\n",
    "* linestyle — ‘solid’, ‘dotted’, ‘dashed’ (applies to line graphs only)\n",
    "* xlim, ylim — specify a tuple (lower limit, upper limit) for which the plot will be drawn\n",
    "* legend— a boolean value to display or hide the legend\n",
    "* labels — a list corresponding to the number of columns in the dataframe, a descriptive name can be provided here for the legend\n",
    "* title — The string title of the plot"
   ]
  },
  {
   "cell_type": "code",
   "execution_count": 8,
   "metadata": {},
   "outputs": [
    {
     "name": "stdout",
     "output_type": "stream",
     "text": [
      "   age gender   name  num_children  num_pets       state\n",
      "0   23      M   john             2         5  california\n",
      "1   78      F   mary             0         1          dc\n",
      "2   22      M  peter             0         0  california\n",
      "3   19      M   jeff             3         5          dc\n",
      "4   45      M   bill             2         2  california\n",
      "5   33      F   lisa             1         2       texas\n",
      "6   20      M   jose             4         3       texas\n"
     ]
    }
   ],
   "source": [
    "import pandas as pd\n",
    "df = pd.DataFrame({\n",
    "    'name':['john','mary','peter','jeff','bill','lisa','jose'],\n",
    "    'age':[23,78,22,19,45,33,20],\n",
    "    'gender':['M','F','M','M','M','F','M'],\n",
    "    'state':['california','dc','california','dc','california','texas','texas'],\n",
    "    'num_children':[2,0,0,3,2,1,4],\n",
    "    'num_pets':[5,1,0,5,2,2,3]    \n",
    "})\n",
    "print(df)"
   ]
  },
  {
   "cell_type": "code",
   "execution_count": 33,
   "metadata": {},
   "outputs": [
    {
     "data": {
      "text/plain": [
       "<matplotlib.axes._subplots.AxesSubplot at 0x1bad0a58>"
      ]
     },
     "execution_count": 33,
     "metadata": {},
     "output_type": "execute_result"
    },
    {
     "data": {
      "image/png": "[encoded data removed]",
      "text/plain": [
       "<Figure size 432x288 with 1 Axes>"
      ]
     },
     "metadata": {
      "needs_background": "light"
     },
     "output_type": "display_data"
    }
   ],
   "source": [
    "import matplotlib.pyplot as plt\n",
    "df.plot(kind='scatter',x='num_children', y='num_pets',color='green') # Kind = line,scatter, bar, ..."
   ]
  },
  {
   "cell_type": "markdown",
   "metadata": {},
   "source": [
    "#### Line plot with multiple columns"
   ]
  },
  {
   "cell_type": "code",
   "execution_count": 37,
   "metadata": {},
   "outputs": [
    {
     "data": {
      "image/png": "[encoded data removed]",
      "text/plain": [
       "<Figure size 432x288 with 1 Axes>"
      ]
     },
     "metadata": {
      "needs_background": "light"
     },
     "output_type": "display_data"
    }
   ],
   "source": [
    "# gca stands for 'get current axis'\n",
    "ax = plt.gca()"
   ]
  },
  {
   "cell_type": "code",
   "execution_count": 41,
   "metadata": {},
   "outputs": [
    {
     "data": {
      "text/plain": [
       "<matplotlib.axes._subplots.AxesSubplot at 0x1bcc1908>"
      ]
     },
     "execution_count": 41,
     "metadata": {},
     "output_type": "execute_result"
    }
   ],
   "source": [
    "df.plot(kind='line',x='name', y='num_pets',ax=ax)"
   ]
  },
  {
   "cell_type": "code",
   "execution_count": 45,
   "metadata": {},
   "outputs": [],
   "source": [
    "df.plot(kind='line',x='name',y='num_children',ax=ax)\n",
    "df.plot(kind='line',x='name',y='num_pets', color='red', ax=ax)\n",
    "plt.show()"
   ]
  },
  {
   "cell_type": "markdown",
   "metadata": {},
   "source": [
    "##### Bar plot with group by"
   ]
  },
  {
   "cell_type": "code",
   "execution_count": 55,
   "metadata": {},
   "outputs": [
    {
     "data": {
      "text/plain": [
       "<matplotlib.axes._subplots.AxesSubplot at 0x1d41afd0>"
      ]
     },
     "execution_count": 55,
     "metadata": {},
     "output_type": "execute_result"
    },
    {
     "data": {
      "image/png": "[encoded data removed]",
      "text/plain": [
       "<Figure size 432x288 with 1 Axes>"
      ]
     },
     "metadata": {
      "needs_background": "light"
     },
     "output_type": "display_data"
    }
   ],
   "source": [
    "# df.groupby('state')['name'].nunique().plot(kind='bar')\n",
    "df.groupby('state')['name'].nunique().plot(kind='bar')"
   ]
  },
  {
   "cell_type": "markdown",
   "metadata": {},
   "source": [
    "#### Stacked bar plot with group by\n",
    "Example: plot count by category as a stacked column:\n",
    "create a dummy variable and do a two-level group-by based on it:\n",
    "fix the x axis label and the legend"
   ]
  },
  {
   "cell_type": "code",
   "execution_count": 57,
   "metadata": {},
   "outputs": [
    {
     "data": {
      "image/png": "[encoded data removed]",
      "text/plain": [
       "<Figure size 432x288 with 1 Axes>"
      ]
     },
     "metadata": {
      "needs_background": "light"
     },
     "output_type": "display_data"
    }
   ],
   "source": [
    "import matplotlib.pyplot as plt\n",
    "\n",
    "# create dummy variable them group by that\n",
    "# set the legend to false because we'll fix it later\n",
    "df.assign(dummy = 1).groupby(\n",
    "  ['dummy','state']\n",
    ").size().to_frame().unstack().plot(kind='bar',stacked=True,legend=False)\n",
    "\n",
    "plt.title('Number of records by State')\n",
    "\n",
    "# other it'll show up as 'dummy' \n",
    "plt.xlabel('state')\n",
    "\n",
    "# disable ticks in the x axis\n",
    "plt.xticks([])\n",
    "\n",
    "# fix the legend\n",
    "current_handles, _ = plt.gca().get_legend_handles_labels()\n",
    "reversed_handles = reversed(current_handles)\n",
    "\n",
    "labels = reversed(df['state'].unique())\n",
    "\n",
    "plt.legend(reversed_handles,labels,loc='lower right')\n",
    "plt.show()"
   ]
  },
  {
   "cell_type": "markdown",
   "metadata": {},
   "source": [
    "#### Stacked bar plot with group by, normalized to 100%\n",
    "A plot where the columns sum up to 100%.\n",
    "Similar to the example above but:\n",
    "* normalize the values by dividing by the total amounts\n",
    "* use percentage tick labels for the y axis\n",
    "Example: Plot percentage count of records by state"
   ]
  },
  {
   "cell_type": "code",
   "execution_count": 58,
   "metadata": {},
   "outputs": [
    {
     "data": {
      "image/png": "[encoded data removed]",
      "text/plain": [
       "<Figure size 432x288 with 1 Axes>"
      ]
     },
     "metadata": {
      "needs_background": "light"
     },
     "output_type": "display_data"
    }
   ],
   "source": [
    "import matplotlib.pyplot as plt\n",
    "import matplotlib.ticker as mtick\n",
    "\n",
    "# create dummy variable then group by that\n",
    "# set the legend to false because we'll fix it later\n",
    "df.assign(dummy = 1).groupby(\n",
    "  ['dummy','state']\n",
    ").size().groupby(level=0).apply(\n",
    "    lambda x: 100 * x / x.sum()\n",
    ").to_frame().unstack().plot(kind='bar',stacked=True,legend=False)\n",
    "\n",
    "# or it'll show up as 'dummy' \n",
    "plt.xlabel('state')\n",
    "\n",
    "# disable ticks in the x axis\n",
    "plt.xticks([])\n",
    "\n",
    "# fix the legend or it'll include the dummy variable\n",
    "current_handles, _ = plt.gca().get_legend_handles_labels()\n",
    "reversed_handles = reversed(current_handles)\n",
    "correct_labels = reversed(df['state'].unique())\n",
    "\n",
    "plt.legend(reversed_handles,correct_labels)\n",
    "\n",
    "plt.gca().yaxis.set_major_formatter(mtick.PercentFormatter())\n",
    "plt.show()"
   ]
  },
  {
   "cell_type": "markdown",
   "metadata": {},
   "source": [
    "#### Stacked bar plot with two-level group byPermalink\n",
    "Just do a normal groupby() and call unstack():"
   ]
  },
  {
   "cell_type": "code",
   "execution_count": 60,
   "metadata": {},
   "outputs": [
    {
     "data": {
      "image/png": "[encoded data removed]",
      "text/plain": [
       "<Figure size 432x288 with 1 Axes>"
      ]
     },
     "metadata": {
      "needs_background": "light"
     },
     "output_type": "display_data"
    }
   ],
   "source": [
    "import matplotlib.pyplot as plt\n",
    "import pandas as pd\n",
    "\n",
    "df.groupby(['state','gender']).size().unstack().plot(kind='bar',stacked=True)\n",
    "plt.show()"
   ]
  },
  {
   "cell_type": "markdown",
   "metadata": {},
   "source": [
    "#### Stacked bar plot with two-level group by, normalized to 100%Permalink\n",
    "Sometimes you are only ever interested in the distributions, not raw amounts:"
   ]
  },
  {
   "cell_type": "code",
   "execution_count": 61,
   "metadata": {},
   "outputs": [
    {
     "data": {
      "image/png": "[encoded data removed]",
      "text/plain": [
       "<Figure size 432x288 with 1 Axes>"
      ]
     },
     "metadata": {
      "needs_background": "light"
     },
     "output_type": "display_data"
    }
   ],
   "source": [
    "import matplotlib.ticker as mtick\n",
    "import matplotlib.pyplot as plt\n",
    "\n",
    "df.groupby(['gender','state']).size().groupby(level=0).apply(\n",
    "    lambda x: 100 * x / x.sum()\n",
    ").unstack().plot(kind='bar',stacked=True)\n",
    "\n",
    "plt.gca().yaxis.set_major_formatter(mtick.PercentFormatter())\n",
    "plt.show()"
   ]
  },
  {
   "cell_type": "markdown",
   "metadata": {},
   "source": [
    "#### Plot histogram of column values"
   ]
  },
  {
   "cell_type": "code",
   "execution_count": 64,
   "metadata": {},
   "outputs": [
    {
     "data": {
      "image/png": "[encoded data removed]",
      "text/plain": [
       "<Figure size 432x288 with 1 Axes>"
      ]
     },
     "metadata": {
      "needs_background": "light"
     },
     "output_type": "display_data"
    }
   ],
   "source": [
    "import matplotlib.pyplot as plt\n",
    "import pandas as pd\n",
    "\n",
    "df[['age']].plot(kind='hist',bins=[0,20,40,60,80,100],rwidth=0.8)\n",
    "plt.show()"
   ]
  },
  {
   "cell_type": "markdown",
   "metadata": {},
   "source": [
    "#### Plot date histogramPermalink\n",
    "To plot the number of records per unit of time, you must first convert the date column to datetime using pandas.to_datetime()."
   ]
  },
  {
   "cell_type": "code",
   "execution_count": 70,
   "metadata": {},
   "outputs": [
    {
     "name": "stdout",
     "output_type": "stream",
     "text": [
      "  date_of_birth   name\n",
      "0    01/21/1988   john\n",
      "1    03/10/1977   lisa\n",
      "2    07/25/1999  peter\n",
      "3    01/22/1977   carl\n",
      "4    09/30/1968  linda\n",
      "5    09/15/1970  betty\n"
     ]
    }
   ],
   "source": [
    "import pandas as pd\n",
    "import matplotlib.pyplot as plt\n",
    "\n",
    "df = pd.DataFrame({\n",
    "    'name':[\n",
    "        'john','lisa','peter','carl','linda','betty'\n",
    "    ],\n",
    "    'date_of_birth':[\n",
    "        '01/21/1988','03/10/1977','07/25/1999','01/22/1977','09/30/1968','09/15/1970'\n",
    "    ]\n",
    "})\n",
    "print(df)"
   ]
  },
  {
   "cell_type": "markdown",
   "metadata": {},
   "source": [
    "#### Now convert the date column into datetime type and use plot(kind='hist'):"
   ]
  },
  {
   "cell_type": "code",
   "execution_count": 71,
   "metadata": {},
   "outputs": [
    {
     "data": {
      "image/png": "[encoded data removed]",
      "text/plain": [
       "<Figure size 432x288 with 1 Axes>"
      ]
     },
     "metadata": {
      "needs_background": "light"
     },
     "output_type": "display_data"
    }
   ],
   "source": [
    "df['date_of_birth'] = pd.to_datetime(df['date_of_birth'],infer_datetime_format=True)\n",
    "\n",
    "plt.clf()\n",
    "df['date_of_birth'].map(lambda d: d.month).plot(kind='hist')\n",
    "plt.show()"
   ]
  }
 ],
 "metadata": {
  "kernelspec": {
   "display_name": "Python 2",
   "language": "python",
   "name": "python2"
  },
  "language_info": {
   "codemirror_mode": {
    "name": "ipython",
    "version": 2
   },
   "file_extension": ".py",
   "mimetype": "text/x-python",
   "name": "python",
   "nbconvert_exporter": "python",
   "pygments_lexer": "ipython2",
   "version": "2.7.13"
  }
 },
 "nbformat": 4,
 "nbformat_minor": 2
}
