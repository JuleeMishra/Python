{
 "cells": [
  {
   "cell_type": "markdown",
   "metadata": {},
   "source": [
    "# Pandas plotting\n",
    "\n",
    "            \n",
    "### Example1"
   ]
  },
  {
   "cell_type": "code",
   "execution_count": 4,
   "metadata": {},
   "outputs": [],
   "source": [
    "import pandas as pd\n",
    "import numpy as np\n",
    "import matplotlib.pyplot as plt"
   ]
  },
  {
   "cell_type": "code",
   "execution_count": 8,
   "metadata": {},
   "outputs": [],
   "source": [
    "# time_series \n",
    "time_series = pd.DataFrame(np.random.rand(1000),index=pd.date_range('1/1/2020', periods=1000))\n",
    "time_series.cumsum\n",
    "##By default, cumsum iterates over rows and finds the sum in each column:\n",
    "\n",
    "# generic dataset\n",
    "ds = pd.DataFrame({'A':np.random.randn(10000), 'B':np.random.randn(10000), 'C':np.random.randn(10000), 'D':np.random.randn(10000)*3})\n",
    "ds_cumsum = ds.cumsum() # cumulative sum of generic dataset\n",
    "ds_cumsum['index'] =list(range(len(ds_cumsum))) # print(ds_cumsum)\n",
    "#small_ds = \n",
    "ds.sample(10) #small sample of generic dataset\n",
    "\n",
    "# ds with only natural numbers\n",
    "A = np.random.randint(0, 100, 100)\n",
    "B = np.random.randint(0, 100, 100)\n",
    "C = np.random.randint(0, 100, 100)\n",
    "ds_natural = pd.DataFrame({'A':A,'B':B,'C':C})\n",
    "ds_natural\n",
    "ds_natural_cumsum = ds_natural.cumsum()\n",
    "ds_natural_small = ds_natural.sample(10)"
   ]
  },
  {
   "cell_type": "markdown",
   "metadata": {},
   "source": [
    "## Vertical Bar blots"
   ]
  },
  {
   "cell_type": "code",
   "execution_count": 16,
   "metadata": {},
   "outputs": [
    {
     "data": {
      "text/plain": [
       "<matplotlib.axes._subplots.AxesSubplot at 0x19768a20>"
      ]
     },
     "execution_count": 16,
     "metadata": {},
     "output_type": "execute_result"
    },
    {
     "data": {
      "image/png": "[encoded data removed]",
      "text/plain": [
       "<Figure size 432x288 with 1 Axes>"
      ]
     },
     "metadata": {
      "needs_background": "light"
     },
     "output_type": "display_data"
    }
   ],
   "source": [
    "import matplotlib.pyplot as plt\n",
    "ds.iloc[2].plot.bar()"
   ]
  },
  {
   "cell_type": "markdown",
   "metadata": {},
   "source": [
    "## Horizontal Bar Plots"
   ]
  },
  {
   "cell_type": "code",
   "execution_count": 20,
   "metadata": {},
   "outputs": [
    {
     "data": {
      "text/plain": [
       "<matplotlib.lines.Line2D at 0x1c57dbe0>"
      ]
     },
     "execution_count": 20,
     "metadata": {},
     "output_type": "execute_result"
    },
    {
     "data": {
      "image/png": "[encoded data removed]",
      "text/plain": [
       "<Figure size 432x288 with 1 Axes>"
      ]
     },
     "metadata": {
      "needs_background": "light"
     },
     "output_type": "display_data"
    }
   ],
   "source": [
    "plt.figure()\n",
    "ds.iloc[2].plot.barh()\n",
    "plt.axvline(0, color='k') # for vertical lines use axvline"
   ]
  },
  {
   "cell_type": "markdown",
   "metadata": {},
   "source": [
    "## Another examples of barplots"
   ]
  },
  {
   "cell_type": "code",
   "execution_count": 25,
   "metadata": {},
   "outputs": [
    {
     "data": {
      "text/plain": [
       "<matplotlib.axes._subplots.AxesSubplot at 0x1ccaaf60>"
      ]
     },
     "execution_count": 25,
     "metadata": {},
     "output_type": "execute_result"
    },
    {
     "data": {
      "image/png": "[encoded data removed]",
      "text/plain": [
       "<Figure size 432x288 with 1 Axes>"
      ]
     },
     "metadata": {
      "needs_background": "light"
     },
     "output_type": "display_data"
    }
   ],
   "source": [
    "ds_natural_small.plot.bar()"
   ]
  },
  {
   "cell_type": "markdown",
   "metadata": {},
   "source": [
    "## Example 2"
   ]
  },
  {
   "cell_type": "code",
   "execution_count": 28,
   "metadata": {},
   "outputs": [
    {
     "data": {
      "text/plain": [
       "array([[ 3.16953906, -0.04330683, -0.54726339, -1.1147114 ],\n",
       "       [-1.14977113, -0.85521603, -0.85456425,  0.8107572 ],\n",
       "       [ 0.06461213,  0.7768553 , -0.04592433, -0.02822656],\n",
       "       [-0.09599724,  1.49094976, -0.52579401, -2.10612072],\n",
       "       [ 0.05086773, -0.48183563, -0.02468879,  0.36800447],\n",
       "       [ 0.40009175, -0.54389291, -1.15658442,  0.67303061],\n",
       "       [ 0.69642836,  0.16648279,  0.0996968 , -0.34547582],\n",
       "       [-0.26455468, -1.01770047, -0.47694997, -0.23896851],\n",
       "       [-0.64152089,  0.14543833, -1.51773527,  0.14073224],\n",
       "       [ 0.55635891, -1.43659982, -0.3506665 ,  0.78963556]])"
      ]
     },
     "execution_count": 28,
     "metadata": {},
     "output_type": "execute_result"
    }
   ],
   "source": [
    "import pandas as pd\n",
    "import numpy as np\n",
    "np.random.randn(10,4)"
   ]
  },
  {
   "cell_type": "code",
   "execution_count": 29,
   "metadata": {},
   "outputs": [
    {
     "data": {
      "text/plain": [
       "DatetimeIndex(['2000-01-01', '2000-01-02', '2000-01-03', '2000-01-04',\n",
       "               '2000-01-05', '2000-01-06', '2000-01-07', '2000-01-08',\n",
       "               '2000-01-09', '2000-01-10'],\n",
       "              dtype='datetime64[ns]', freq='D')"
      ]
     },
     "execution_count": 29,
     "metadata": {},
     "output_type": "execute_result"
    }
   ],
   "source": [
    "pd.date_range('1/1/2000',periods=10)"
   ]
  },
  {
   "cell_type": "code",
   "execution_count": null,
   "metadata": {},
   "outputs": [],
   "source": []
  }
 ],
 "metadata": {
  "kernelspec": {
   "display_name": "Python 3",
   "language": "python",
   "name": "python3"
  },
  "language_info": {
   "codemirror_mode": {
    "name": "ipython",
    "version": 3
   },
   "file_extension": ".py",
   "mimetype": "text/x-python",
   "name": "python",
   "nbconvert_exporter": "python",
   "pygments_lexer": "ipython3",
   "version": "3.8.1"
  }
 },
 "nbformat": 4,
 "nbformat_minor": 2
}
