{
 "cells": [
  {
   "cell_type": "code",
   "execution_count": 18,
   "metadata": {},
   "outputs": [
    {
     "name": "stdout",
     "output_type": "stream",
     "text": [
      "[ 4.6  2.1 -4.   3. ]\n"
     ]
    }
   ],
   "source": [
    "import pandas as pd\n",
    "my_series = pd.Series([4.6, 2.1,-4.0, 3.0])\n",
    "print(my_series.values)"
   ]
  },
  {
   "cell_type": "markdown",
   "metadata": {},
   "source": [
    "print(my_series.values) # this will print array\n",
    "Result: [ 4.6  2.1 -4.   3. ]\n",
    "\n",
    "print(my_series) # will print index numbers & values\n",
    "0    4.6\n",
    "1    2.1\n",
    "2   -4.0\n",
    "3    3.0\n",
    "dtype: float64"
   ]
  },
  {
   "cell_type": "markdown",
   "metadata": {},
   "source": [
    "### DataFrames\n",
    "The DataFrame represents tabular data, a bit like a spreadsheet. DataFrames are organised into colums (each of which is a Series), and each column can store a single data-type, such as floating point numbers, strings, boolean values etc. DataFrames can be indexed by either their row or column names. (They are similar in many ways to R’s data.frame.)\n",
    "We can create a DataFrame in Pandas from a Python dictionary, or by loading in a text file containing tabular data"
   ]
  },
  {
   "cell_type": "code",
   "execution_count": 27,
   "metadata": {},
   "outputs": [
    {
     "name": "stdout",
     "output_type": "stream",
     "text": [
      "űrhajó\n"
     ]
    }
   ],
   "source": [
    "# create DataFrame from a dictionary.\n",
    "hungarian_dictionary = {'spaceship': 'űrhajó',   # create dictionary\n",
    "                        'watermelon': 'görögdinnye',\n",
    "                        'bicycle': 'kerékpár'} \n",
    "print(hungarian_dictionary['spaceship'])"
   ]
  },
  {
   "cell_type": "code",
   "execution_count": 34,
   "metadata": {},
   "outputs": [
    {
     "name": "stdout",
     "output_type": "stream",
     "text": [
      "(1296, 57.078628, -3.728024)\n"
     ]
    }
   ],
   "source": [
    "# Names (keys) mapped to a tuple (the value) containing the height, lat and longitude.\n",
    "scottish_hills = {'Ben Nevis': (1345, 56.79685, -5.003508),\n",
    "                  'Ben Macdui': (1309, 57.070453, -3.668262),\n",
    "                  'Braeriach': (1296, 57.078628, -3.728024),\n",
    "                  'Cairn Toul': (1291, 57.054611, -3.71042),\n",
    "                  'Sgòr an Lochain Uaine': (1258, 57.057999, -3.725416)}\n",
    "print(scottish_hills['Braeriach'])"
   ]
  },
  {
   "cell_type": "code",
   "execution_count": 43,
   "metadata": {},
   "outputs": [],
   "source": [
    "# Pandas works best with dictionaries when the dictionary keys refer to column names or headers. Here’s a better dictionary to use:\n",
    "scottish_hills = {'Hill Name': ['Ben Nevis', 'Ben Macdui', 'Braeriach', 'Cairn Toul', 'Sgòr an Lochain Uaine'],\n",
    "                  'Height': [1345, 1309, 1296, 1291, 1258],\n",
    "                  'Latitude': [56.79685, 57.070453, 57.078628, 57.054611, 57.057999],\n",
    "                  'Longitude': [-5.003508, -3.668262, -3.728024, -3.71042, -3.725416]}"
   ]
  },
  {
   "cell_type": "markdown",
   "metadata": {},
   "source": [
    " ### Convert python dictionary into Pandas DataFrame"
   ]
  },
  {
   "cell_type": "code",
   "execution_count": 39,
   "metadata": {},
   "outputs": [
    {
     "name": "stdout",
     "output_type": "stream",
     "text": [
      "   Height              Hill Name   Latitude  Longitude\n",
      "0    1345              Ben Nevis  56.796850  -5.003508\n",
      "1    1309             Ben Macdui  57.070453  -3.668262\n",
      "2    1296              Braeriach  57.078628  -3.728024\n",
      "3    1291             Cairn Toul  57.054611  -3.710420\n",
      "4    1258  Sgòr an Lochain Uaine  57.057999  -3.725416\n"
     ]
    }
   ],
   "source": [
    "import pandas as pd\n",
    "dataframe = pd.DataFrame(scottish_hills)\n",
    "print(dataframe)"
   ]
  },
  {
   "cell_type": "code",
   "execution_count": 41,
   "metadata": {},
   "outputs": [
    {
     "name": "stdout",
     "output_type": "stream",
     "text": [
      "               Hill Name  Height   Latitude  Longitude\n",
      "0              Ben Nevis    1345  56.796850  -5.003508\n",
      "1             Ben Macdui    1309  57.070453  -3.668262\n",
      "2              Braeriach    1296  57.078628  -3.728024\n",
      "3             Cairn Toul    1291  57.054611  -3.710420\n",
      "4  Sgòr an Lochain Uaine    1258  57.057999  -3.725416\n"
     ]
    }
   ],
   "source": [
    "# The column names are ordered alphabetically by default (left to right), but we can specify the order using the columns keyword.\n",
    "dataframe = pd.DataFrame(scottish_hills, columns=['Hill Name', 'Height', 'Latitude', 'Longitude'])\n",
    "print(dataframe)"
   ]
  },
  {
   "cell_type": "markdown",
   "metadata": {},
   "source": [
    "### Learn how to access data from a Pandas DataFrame"
   ]
  },
  {
   "cell_type": "code",
   "execution_count": 45,
   "metadata": {},
   "outputs": [
    {
     "name": "stdout",
     "output_type": "stream",
     "text": [
      "    Hill Name  Height   Latitude  Longitude\n",
      "0   Ben Nevis    1345  56.796850  -5.003508\n",
      "1  Ben Macdui    1309  57.070453  -3.668262\n",
      "2   Braeriach    1296  57.078628  -3.728024\n"
     ]
    }
   ],
   "source": [
    "# Access first n items(row) with the head method\n",
    "print(dataframe.head(3))"
   ]
  },
  {
   "cell_type": "code",
   "execution_count": 48,
   "metadata": {},
   "outputs": [
    {
     "name": "stdout",
     "output_type": "stream",
     "text": [
      "               Hill Name  Height   Latitude  Longitude\n",
      "3             Cairn Toul    1291  57.054611  -3.710420\n",
      "4  Sgòr an Lochain Uaine    1258  57.057999  -3.725416\n"
     ]
    }
   ],
   "source": [
    "# Access last n items(row) with the tail method\n",
    "print(dataframe.tail(2))"
   ]
  },
  {
   "cell_type": "code",
   "execution_count": 52,
   "metadata": {},
   "outputs": [
    {
     "name": "stdout",
     "output_type": "stream",
     "text": [
      "0                Ben Nevis\n",
      "1               Ben Macdui\n",
      "2                Braeriach\n",
      "3               Cairn Toul\n",
      "4    Sgòr an Lochain Uaine\n",
      "Name: Hill Name, dtype: object\n"
     ]
    }
   ],
   "source": [
    "# Our columns in the dataframe object are individual Series of data. We can access them by referring to the column name e.g. dataframe['column-name']\n",
    "print(dataframe['Hill Name'])"
   ]
  },
  {
   "cell_type": "code",
   "execution_count": 56,
   "metadata": {},
   "outputs": [
    {
     "name": "stdout",
     "output_type": "stream",
     "text": [
      "Hill Name    Ben Macdui\n",
      "Height             1309\n",
      "Latitude        57.0705\n",
      "Longitude      -3.66826\n",
      "Name: 1, dtype: object\n"
     ]
    }
   ],
   "source": [
    "# Note that Pandas DataFrames are accessed primarily by columns. In a sense the row is less important to a DataFrame.\n",
    "# print(dataframe[0]) # we get error. We must use column name.\n",
    "# we have to use a different method to get the row:\n",
    "print(dataframe.iloc[1])"
   ]
  },
  {
   "cell_type": "code",
   "execution_count": 58,
   "metadata": {},
   "outputs": [
    {
     "name": "stdout",
     "output_type": "stream",
     "text": [
      "Ben Nevis\n"
     ]
    }
   ],
   "source": [
    "# The iloc method gives us access to the DataFrame in more traditional ‘matrix’ style notation, i.e. [row, column] notation.\n",
    "print(dataframe.iloc[0,0])"
   ]
  },
  {
   "cell_type": "code",
   "execution_count": 65,
   "metadata": {},
   "outputs": [
    {
     "data": {
      "text/plain": [
       "'Ben Nevis'"
      ]
     },
     "execution_count": 65,
     "metadata": {},
     "output_type": "execute_result"
    }
   ],
   "source": [
    "# A way to remeber this is that iloc is short for “integer location”. But a more Pandas-style approach would be to do:\n",
    "dataframe['Hill Name'][0]"
   ]
  },
  {
   "cell_type": "code",
   "execution_count": 68,
   "metadata": {},
   "outputs": [
    {
     "name": "stdout",
     "output_type": "stream",
     "text": [
      "0                Ben Nevis\n",
      "1               Ben Macdui\n",
      "2                Braeriach\n",
      "3               Cairn Toul\n",
      "4    Sgòr an Lochain Uaine\n",
      "Name: Hill Name, dtype: object\n"
     ]
    }
   ],
   "source": [
    "print(dataframe['Hill Name'])"
   ]
  },
  {
   "cell_type": "code",
   "execution_count": 69,
   "metadata": {},
   "outputs": [
    {
     "data": {
      "text/plain": [
       "0    1345\n",
       "1    1309\n",
       "2    1296\n",
       "3    1291\n",
       "4    1258\n",
       "Name: Height, dtype: int64"
      ]
     },
     "execution_count": 69,
     "metadata": {},
     "output_type": "execute_result"
    }
   ],
   "source": [
    "dataframe.Height"
   ]
  },
  {
   "cell_type": "markdown",
   "metadata": {},
   "source": [
    "### How to filter data in a Pandas DataFrame"
   ]
  },
  {
   "cell_type": "code",
   "execution_count": 73,
   "metadata": {},
   "outputs": [
    {
     "data": {
      "text/html": [
       "<div>\n",
       "<style scoped>\n",
       "    .dataframe tbody tr th:only-of-type {\n",
       "        vertical-align: middle;\n",
       "    }\n",
       "\n",
       "    .dataframe tbody tr th {\n",
       "        vertical-align: top;\n",
       "    }\n",
       "\n",
       "    .dataframe thead th {\n",
       "        text-align: right;\n",
       "    }\n",
       "</style>\n",
       "<table border=\"1\" class=\"dataframe\">\n",
       "  <thead>\n",
       "    <tr style=\"text-align: right;\">\n",
       "      <th></th>\n",
       "      <th>Hill Name</th>\n",
       "      <th>Height</th>\n",
       "      <th>Latitude</th>\n",
       "      <th>Longitude</th>\n",
       "    </tr>\n",
       "  </thead>\n",
       "  <tbody>\n",
       "    <tr>\n",
       "      <th>0</th>\n",
       "      <td>Ben Nevis</td>\n",
       "      <td>1345</td>\n",
       "      <td>56.796850</td>\n",
       "      <td>-5.003508</td>\n",
       "    </tr>\n",
       "    <tr>\n",
       "      <th>1</th>\n",
       "      <td>Ben Macdui</td>\n",
       "      <td>1309</td>\n",
       "      <td>57.070453</td>\n",
       "      <td>-3.668262</td>\n",
       "    </tr>\n",
       "  </tbody>\n",
       "</table>\n",
       "</div>"
      ],
      "text/plain": [
       "    Hill Name  Height   Latitude  Longitude\n",
       "0   Ben Nevis    1345  56.796850  -5.003508\n",
       "1  Ben Macdui    1309  57.070453  -3.668262"
      ]
     },
     "execution_count": 73,
     "metadata": {},
     "output_type": "execute_result"
    }
   ],
   "source": [
    "# dataframe.Height > 1300 ---> returns true or false\n",
    "dataframe[dataframe.Height > 1300]"
   ]
  },
  {
   "cell_type": "markdown",
   "metadata": {},
   "source": [
    "### Append data to an existing DataFrame\n",
    "* Append data to the DataFrame"
   ]
  },
  {
   "cell_type": "code",
   "execution_count": 76,
   "metadata": {},
   "outputs": [
    {
     "name": "stdout",
     "output_type": "stream",
     "text": [
      "               Hill Name  Height   Latitude  Longitude     Region\n",
      "0              Ben Nevis    1345  56.796850  -5.003508   Grampian\n",
      "1             Ben Macdui    1309  57.070453  -3.668262  Cairngorm\n",
      "2              Braeriach    1296  57.078628  -3.728024  Cairngorm\n",
      "3             Cairn Toul    1291  57.054611  -3.710420  Cairngorm\n",
      "4  Sgòr an Lochain Uaine    1258  57.057999  -3.725416  Cairngorm\n"
     ]
    }
   ],
   "source": [
    "dataframe['Region'] = ['Grampian', 'Cairngorm', 'Cairngorm', 'Cairngorm', 'Cairngorm']\n",
    "print(dataframe)"
   ]
  },
  {
   "cell_type": "markdown",
   "metadata": {},
   "source": [
    "## Read data from a file using Pandas"
   ]
  },
  {
   "cell_type": "code",
   "execution_count": 78,
   "metadata": {},
   "outputs": [
    {
     "name": "stdout",
     "output_type": "stream",
     "text": [
      "                    Hill Name  Height   Latitude  Longitude    Osgrid\n",
      "0       A' Bhuidheanach Bheag   936.0  56.870342  -4.199001  NN660775\n",
      "1               A' Chailleach   997.0  57.693800  -5.128715  NH136714\n",
      "2               A' Chailleach   929.2  57.109564  -4.179285  NH681041\n",
      "3  A' Chraileag (A' Chralaig)  1120.0  57.184186  -5.154837  NH094147\n",
      "4             A' Ghlas-bheinn   918.0  57.255090  -5.303687  NH008231\n",
      "5               A' Mhaighdean   967.0  57.719644  -5.346720  NH007749\n",
      "6              A' Mharconaich   973.2  56.857002  -4.290668  NN604762\n",
      "7                  Am Basteir   934.0  57.247931  -6.202982  NG465253\n",
      "8                   Am Bodach  1031.8  56.741727  -4.983393  NN176650\n",
      "9               Am Faochagach   953.0  57.771801  -4.853899  NH303793\n"
     ]
    }
   ],
   "source": [
    "import pandas as pd\n",
    "\n",
    "dataframe = pd.read_csv(\"scottish_hills.csv\")\n",
    "print(dataframe.head(10))"
   ]
  },
  {
   "cell_type": "markdown",
   "metadata": {},
   "source": [
    "#### Sort by height (sort_values)"
   ]
  },
  {
   "cell_type": "code",
   "execution_count": 80,
   "metadata": {},
   "outputs": [
    {
     "name": "stdout",
     "output_type": "stream",
     "text": [
      "                       Hill Name  Height   Latitude  Longitude    Osgrid\n",
      "92                     Ben Nevis  1344.5  56.796891  -5.003675  NN166712\n",
      "88   Ben Macdui (Beinn Macduibh)  1309.0  57.070368  -3.669099  NN988989\n",
      "104                    Braeriach  1296.0  57.078298  -3.728389  NN953999\n",
      "115                   Cairn Toul  1291.0  57.054397  -3.710773  NN963972\n",
      "212        Sgor an Lochain Uaine  1258.0  57.058369  -3.725797  NN954976\n"
     ]
    }
   ],
   "source": [
    "sorted_hills = dataframe.sort_values(by=['Height'], ascending=False)\n",
    "print(sorted_hills.head(5))"
   ]
  },
  {
   "cell_type": "markdown",
   "metadata": {},
   "source": [
    "## Understand the basics of the Matplotlib plotting package"
   ]
  },
  {
   "cell_type": "markdown",
   "metadata": {},
   "source": [
    "matplotlib is a Python package used for data plotting and visualisation. It is a useful complement to Pandas, and like Pandas,\n",
    "is a very feature-rich library which can produce a large variety of plots, charts, maps, and other visualisations."
   ]
  },
  {
   "cell_type": "code",
   "execution_count": 9,
   "metadata": {},
   "outputs": [],
   "source": [
    "import pandas as pd\n",
    "import matplotlib.pyplot as plt\n",
    "\n",
    "dataframe = pd.read_csv(\"scottish_hills.csv\")"
   ]
  },
  {
   "cell_type": "markdown",
   "metadata": {},
   "source": [
    "Understand the relationship between two varibles in our Scottish hills data. Suppose I have a hypothesis that the height of Scottish hill increases with latitude northwards. We going to plot height against latitude. We can extract the Series for “Height” and “Latitude” by assigning each to a new variable, x and y, respectively.\n",
    "Height --> x\n",
    "Latitude --> Y"
   ]
  },
  {
   "cell_type": "code",
   "execution_count": 10,
   "metadata": {},
   "outputs": [],
   "source": [
    "x = dataframe.Height\n",
    "y = dataframe.Latitude"
   ]
  },
  {
   "cell_type": "code",
   "execution_count": 91,
   "metadata": {},
   "outputs": [
    {
     "name": "stdout",
     "output_type": "stream",
     "text": [
      "0     936.0\n",
      "1     997.0\n",
      "2     929.2\n",
      "3    1120.0\n",
      "4     918.0\n",
      "Name: Height, dtype: float64\n"
     ]
    }
   ],
   "source": [
    "print(x.head(5))"
   ]
  },
  {
   "cell_type": "markdown",
   "metadata": {},
   "source": [
    "#### 1. scatter hart"
   ]
  },
  {
   "cell_type": "code",
   "execution_count": 95,
   "metadata": {},
   "outputs": [
    {
     "data": {
      "text/plain": [
       "<matplotlib.collections.PathCollection at 0x193ca940>"
      ]
     },
     "execution_count": 95,
     "metadata": {},
     "output_type": "execute_result"
    },
    {
     "data": {
      "image/png": "[encoded data removed]",
      "text/plain": [
       "<Figure size 432x288 with 1 Axes>"
      ]
     },
     "metadata": {
      "needs_background": "light"
     },
     "output_type": "display_data"
    }
   ],
   "source": [
    "# Height Vs Latitude  \n",
    "plt.scatter(x, y)"
   ]
  },
  {
   "cell_type": "code",
   "execution_count": 101,
   "metadata": {},
   "outputs": [
    {
     "data": {
      "text/plain": [
       "<Figure size 432x288 with 0 Axes>"
      ]
     },
     "metadata": {},
     "output_type": "display_data"
    }
   ],
   "source": [
    "plt.savefig(\"my_chart_name.png\")"
   ]
  },
  {
   "cell_type": "code",
   "execution_count": 11,
   "metadata": {},
   "outputs": [
    {
     "data": {
      "text/plain": [
       "<matplotlib.axes._subplots.AxesSubplot at 0x1a4dc908>"
      ]
     },
     "execution_count": 11,
     "metadata": {},
     "output_type": "execute_result"
    },
    {
     "data": {
      "image/png": "[encoded data removed]",
      "text/plain": [
       "<Figure size 432x288 with 1 Axes>"
      ]
     },
     "metadata": {
      "needs_background": "light"
     },
     "output_type": "display_data"
    }
   ],
   "source": [
    "dataframe.plot(kind='scatter',x='Height',y='Latitude',color='green')"
   ]
  },
  {
   "cell_type": "markdown",
   "metadata": {},
   "source": [
    "### Bring together other Python libraries with Matplotlib"
   ]
  },
  {
   "cell_type": "markdown",
   "metadata": {},
   "source": [
    "##### Plot a line of linear regression on our chart"
   ]
  },
  {
   "cell_type": "code",
   "execution_count": 20,
   "metadata": {},
   "outputs": [
    {
     "data": {
      "text/plain": [
       "57.426726149048484"
      ]
     },
     "execution_count": 20,
     "metadata": {},
     "output_type": "execute_result"
    }
   ],
   "source": [
    "from scipy.stats import linregress"
   ]
  },
  {
   "cell_type": "markdown",
   "metadata": {},
   "source": [
    "##### The linregress function is slightly different to the functions we’ve seen so far, because it returns an object with multiple values. In fact it returns the slope, intercept, rvalue, pvalue, and stderr (standard error). We can get hold of each of these values by using the dot notation: e.g. stats.slope, for example, much in the same way we can access our DataFrame attributes with dataframe.Height."
   ]
  },
  {
   "cell_type": "code",
   "execution_count": 25,
   "metadata": {},
   "outputs": [],
   "source": [
    "stats = linregress(x, y)\n",
    "m = stats.slope  #-0.0004276647086117415\n",
    "b = stats.intercept #57.426726149048484"
   ]
  },
  {
   "cell_type": "markdown",
   "metadata": {},
   "source": [
    "##### The equation for the straight line that describes linear regression is y = mx + b, where m is the slope and b is the intercept."
   ]
  },
  {
   "cell_type": "code",
   "execution_count": 29,
   "metadata": {},
   "outputs": [
    {
     "data": {
      "text/plain": [
       "[<matplotlib.lines.Line2D at 0x1a59b6a0>]"
      ]
     },
     "execution_count": 29,
     "metadata": {},
     "output_type": "execute_result"
    },
    {
     "data": {
      "image/png": "[encoded data removed]",
      "text/plain": [
       "<Figure size 432x288 with 1 Axes>"
      ]
     },
     "metadata": {
      "needs_background": "light"
     },
     "output_type": "display_data"
    }
   ],
   "source": [
    "plt.plot(x, m * x + b, color=\"green\")  # The equation of the straight line."
   ]
  },
  {
   "cell_type": "code",
   "execution_count": 32,
   "metadata": {},
   "outputs": [
    {
     "data": {
      "text/plain": [
       "<Figure size 432x288 with 0 Axes>"
      ]
     },
     "metadata": {},
     "output_type": "display_data"
    }
   ],
   "source": [
    "plt.savefig(\"figure.png\")"
   ]
  },
  {
   "cell_type": "code",
   "execution_count": 36,
   "metadata": {},
   "outputs": [
    {
     "data": {
      "image/png": "[encoded data removed]",
      "text/plain": [
       "<Figure size 432x288 with 1 Axes>"
      ]
     },
     "metadata": {
      "needs_background": "light"
     },
     "output_type": "display_data"
    }
   ],
   "source": [
    "import pandas as pd\n",
    "import matplotlib.pyplot as plt\n",
    "from scipy.stats import linregress\n",
    "\n",
    "dataframe = pd.read_csv(\"scottish_hills.csv\")\n",
    "\n",
    "x = dataframe.Height\n",
    "y = dataframe.Latitude\n",
    "\n",
    "stats = linregress(x, y)\n",
    "\n",
    "m = stats.slope\n",
    "b = stats.intercept\n",
    "\n",
    "plt.scatter(x, y)\n",
    "plt.plot(x, m * x + b, color=\"red\")   # I've added a color argument here\n",
    "\n",
    "plt.savefig(\"figure.png\")"
   ]
  },
  {
   "cell_type": "code",
   "execution_count": 37,
   "metadata": {},
   "outputs": [
    {
     "data": {
      "image/png": "[encoded data removed]",
      "text/plain": [
       "<Figure size 720x720 with 1 Axes>"
      ]
     },
     "metadata": {
      "needs_background": "light"
     },
     "output_type": "display_data"
    }
   ],
   "source": [
    "import pandas as pd\n",
    "import matplotlib.pyplot as plt\n",
    "from scipy.stats import linregress\n",
    "\n",
    "dataframe = pd.read_csv(\"scottish_hills.csv\")\n",
    "\n",
    "x = dataframe.Height\n",
    "y = dataframe.Latitude\n",
    "\n",
    "stats = linregress(x, y)\n",
    "\n",
    "m = stats.slope\n",
    "b = stats.intercept\n",
    "\n",
    "# Change the default figure size\n",
    "plt.figure(figsize=(10,10))\n",
    "\n",
    "# Change the default marker for the scatter from circles to x's\n",
    "plt.scatter(x, y, marker='x')\n",
    "\n",
    "# Set the linewidth on the regression line to 3px\n",
    "plt.plot(x, m * x + b, color=\"red\", linewidth=3)\n",
    "\n",
    "# Add x and y lables, and set their font size\n",
    "plt.xlabel(\"Height (m)\", fontsize=20)\n",
    "plt.ylabel(\"Latitude\", fontsize=20)\n",
    "\n",
    "# Set the font size of the number lables on the axes\n",
    "plt.xticks(fontsize=18)\n",
    "plt.yticks(fontsize=18)\n",
    "\n",
    "plt.savefig(\"python-linear-reg-custom.png\")"
   ]
  }
 ],
 "metadata": {
  "kernelspec": {
   "display_name": "Python 2",
   "language": "python",
   "name": "python2"
  },
  "language_info": {
   "codemirror_mode": {
    "name": "ipython",
    "version": 2
   },
   "file_extension": ".py",
   "mimetype": "text/x-python",
   "name": "python",
   "nbconvert_exporter": "python",
   "pygments_lexer": "ipython2",
   "version": "2.7.13"
  }
 },
 "nbformat": 4,
 "nbformat_minor": 2
}
